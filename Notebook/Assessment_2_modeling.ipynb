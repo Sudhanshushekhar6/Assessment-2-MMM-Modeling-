{
  "nbformat": 4,
  "nbformat_minor": 0,
  "metadata": {
    "colab": {
      "provenance": []
    },
    "kernelspec": {
      "name": "python3",
      "display_name": "Python 3"
    },
    "language_info": {
      "name": "python"
    }
  },
  "cells": [
    {
      "cell_type": "markdown",
      "source": [
        "**Import the Libraries**"
      ],
      "metadata": {
        "id": "eng6wOMO8EM-"
      }
    },
    {
      "cell_type": "code",
      "source": [
        "import numpy as np\n",
        "import pandas as pd\n",
        "from sklearn.linear_model import RidgeCV, ElasticNetCV\n",
        "from sklearn.ensemble import RandomForestRegressor\n",
        "from sklearn.model_selection import TimeSeriesSplit\n",
        "from sklearn.metrics import mean_squared_error, mean_absolute_error, r2_score\n",
        "from sklearn.pipeline import make_pipeline\n",
        "from sklearn.preprocessing import StandardScaler\n",
        "import matplotlib.pyplot as plt\n",
        "import joblib"
      ],
      "metadata": {
        "id": "Gbxr55sM6VSL"
      },
      "execution_count": 17,
      "outputs": []
    },
    {
      "cell_type": "markdown",
      "source": [
        "**Load the cleaned dataset from CSV**"
      ],
      "metadata": {
        "id": "YKNzmB62_OnM"
      }
    },
    {
      "cell_type": "code",
      "source": [
        "data = pd.read_csv('cleaned_data.csv')\n",
        "data['week'] = pd.to_datetime(data['week'])"
      ],
      "metadata": {
        "id": "T4OzAb1i_MHL"
      },
      "execution_count": 23,
      "outputs": []
    },
    {
      "cell_type": "markdown",
      "source": [
        " **SettingsTarget variable (log-transformed revenue)**"
      ],
      "metadata": {
        "id": "jwBOmlxN8Sqj"
      }
    },
    {
      "cell_type": "code",
      "source": [
        "TARGET = 'log1p_revenue'\n",
        "TIME_COL = 'week'"
      ],
      "metadata": {
        "id": "5hGO9Kzk8O--"
      },
      "execution_count": 24,
      "outputs": []
    },
    {
      "cell_type": "markdown",
      "source": [
        "**Define channels/features**\n",
        "\n",
        "\n",
        "\n",
        "\n"
      ],
      "metadata": {
        "id": "PSO3EGvD8kxI"
      }
    },
    {
      "cell_type": "code",
      "source": [
        "SOCIALS = ['facebook_spend','tiktok_spend','instagram_spend','snapchat_spend']\n",
        "SEARCH = ['google_spend']\n",
        "ADSTOCK = [f'{s.split(\"_\")[0]}_adstock' for s in SEARCH + SOCIALS]\n",
        "EXTRA = ['log_price','average_price','promotions','followers','email_sent','sms_sent']"
      ],
      "metadata": {
        "id": "gKN7ccsp8h92"
      },
      "execution_count": 25,
      "outputs": []
    },
    {
      "cell_type": "markdown",
      "source": [
        "**Keep only the columns that exist in the data**"
      ],
      "metadata": {
        "id": "AhJbCsGb8-ni"
      }
    },
    {
      "cell_type": "code",
      "source": [
        "SOCIALS = [c for c in SOCIALS if c in data.columns]\n",
        "SEARCH = [c for c in SEARCH if c in data.columns]\n",
        "ADSTOCK = [c for c in ADSTOCK if c in data.columns]\n",
        "EXTRA = [c for c in EXTRA if c in data.columns]"
      ],
      "metadata": {
        "id": "e-Cox7Sx80lb"
      },
      "execution_count": 26,
      "outputs": []
    },
    {
      "cell_type": "markdown",
      "source": [
        "**Identify lagged features and Fourier/time features**"
      ],
      "metadata": {
        "id": "qmmXnTWO9Muw"
      }
    },
    {
      "cell_type": "code",
      "source": [
        "lag_cols = [c for c in data.columns if '_lag' in c and any(s in c for s in SOCIALS+SEARCH+['revenue'])]\n",
        "fourier_cols = [c for c in data.columns if c.startswith('annual_')]\n",
        "time_feats = [c for c in ['t','week_of_year','month','year'] if c in data.columns]"
      ],
      "metadata": {
        "id": "mUqi0f5D9HEn"
      },
      "execution_count": 21,
      "outputs": []
    },
    {
      "cell_type": "markdown",
      "source": [
        "**Stage1 & Stage2 features**"
      ],
      "metadata": {
        "id": "6RJbfBZl9XE9"
      }
    },
    {
      "cell_type": "code",
      "source": [
        "stage1_features = SOCIALS + ADSTOCK + time_feats + fourier_cols + [c for c in EXTRA if c != 'average_price']\n",
        "stage1_features = [c for c in stage1_features if c in data.columns]\n",
        "\n",
        "stage2_features = SOCIALS + ADSTOCK + lag_cols + time_feats + fourier_cols + EXTRA\n",
        "stage2_features = [c for c in stage2_features if c in data.columns]\n",
        "\n",
        "print(\"Stage1 features:\", stage1_features)\n",
        "print(\"Stage2 features:\", stage2_features)"
      ],
      "metadata": {
        "colab": {
          "base_uri": "https://localhost:8080/"
        },
        "id": "O8-QRt879TRN",
        "outputId": "dcaa4d61-a3fa-46b5-ee42-d2579af380d1"
      },
      "execution_count": 27,
      "outputs": [
        {
          "output_type": "stream",
          "name": "stdout",
          "text": [
            "Stage1 features: ['facebook_spend', 'tiktok_spend', 'instagram_spend', 'snapchat_spend', 'google_adstock', 'facebook_adstock', 'tiktok_adstock', 'instagram_adstock', 'snapchat_adstock', 't', 'week_of_year', 'month', 'year', 'annual_sin_1', 'annual_cos_1', 'annual_sin_2', 'annual_cos_2', 'annual_sin_3', 'annual_cos_3', 'log_price', 'promotions']\n",
            "Stage2 features: ['facebook_spend', 'tiktok_spend', 'instagram_spend', 'snapchat_spend', 'google_adstock', 'facebook_adstock', 'tiktok_adstock', 'instagram_adstock', 'snapchat_adstock', 'facebook_spend_lag1', 'facebook_spend_lag2', 'facebook_spend_lag3', 'facebook_spend_lag4', 'tiktok_spend_lag1', 'tiktok_spend_lag2', 'tiktok_spend_lag3', 'tiktok_spend_lag4', 'instagram_spend_lag1', 'instagram_spend_lag2', 'instagram_spend_lag3', 'instagram_spend_lag4', 'snapchat_spend_lag1', 'snapchat_spend_lag2', 'snapchat_spend_lag3', 'snapchat_spend_lag4', 'google_spend_lag1', 'google_spend_lag2', 'google_spend_lag3', 'google_spend_lag4', 'revenue_lag1', 'revenue_lag2', 'revenue_lag3', 'revenue_lag4', 't', 'week_of_year', 'month', 'year', 'annual_sin_1', 'annual_cos_1', 'annual_sin_2', 'annual_cos_2', 'annual_sin_3', 'annual_cos_3', 'log_price', 'average_price', 'promotions']\n"
          ]
        }
      ]
    },
    {
      "cell_type": "markdown",
      "source": [
        "**Train/Test Split**"
      ],
      "metadata": {
        "id": "nHGm-rFP9gkm"
      }
    },
    {
      "cell_type": "code",
      "source": [
        "TEST_WEEKS = 12\n",
        "train = data.iloc[:-TEST_WEEKS].copy()\n",
        "test  = data.iloc[-TEST_WEEKS:].copy()"
      ],
      "metadata": {
        "id": "UelsRgPN9fDL"
      },
      "execution_count": 28,
      "outputs": []
    },
    {
      "cell_type": "markdown",
      "source": [
        "**Stage1: RidgeCV to predict Google spend**"
      ],
      "metadata": {
        "id": "a7a3XwWx_y5c"
      }
    },
    {
      "cell_type": "code",
      "source": [
        "if len(SEARCH) == 0:\n",
        "    raise ValueError(\"No google_spend column found in data.\")\n",
        "google_col = SEARCH[0]\n",
        "\n",
        "train_s1 = train.dropna(subset=stage1_features + [google_col])\n",
        "X_s1 = train_s1[stage1_features]\n",
        "y_s1 = train_s1[google_col]\n",
        "\n",
        "tscv = TimeSeriesSplit(n_splits=5)\n",
        "ridge_alphas = np.logspace(-3,3,25)\n",
        "s1_model = make_pipeline(StandardScaler(), RidgeCV(alphas=ridge_alphas, cv=tscv))\n",
        "s1_model.fit(X_s1, y_s1)"
      ],
      "metadata": {
        "colab": {
          "base_uri": "https://localhost:8080/",
          "height": 155
        },
        "id": "nAMRDPch_wUN",
        "outputId": "7befb2ea-e833-4681-e193-caba0c32c7a7"
      },
      "execution_count": 29,
      "outputs": [
        {
          "output_type": "execute_result",
          "data": {
            "text/plain": [
              "Pipeline(steps=[('standardscaler', StandardScaler()),\n",
              "                ('ridgecv',\n",
              "                 RidgeCV(alphas=array([1.00000000e-03, 1.77827941e-03, 3.16227766e-03, 5.62341325e-03,\n",
              "       1.00000000e-02, 1.77827941e-02, 3.16227766e-02, 5.62341325e-02,\n",
              "       1.00000000e-01, 1.77827941e-01, 3.16227766e-01, 5.62341325e-01,\n",
              "       1.00000000e+00, 1.77827941e+00, 3.16227766e+00, 5.62341325e+00,\n",
              "       1.00000000e+01, 1.77827941e+01, 3.16227766e+01, 5.62341325e+01,\n",
              "       1.00000000e+02, 1.77827941e+02, 3.16227766e+02, 5.62341325e+02,\n",
              "       1.00000000e+03]),\n",
              "                         cv=TimeSeriesSplit(gap=0, max_train_size=None, n_splits=5, test_size=None)))])"
            ],
            "text/html": [
              "<style>#sk-container-id-1 {\n",
              "  /* Definition of color scheme common for light and dark mode */\n",
              "  --sklearn-color-text: #000;\n",
              "  --sklearn-color-text-muted: #666;\n",
              "  --sklearn-color-line: gray;\n",
              "  /* Definition of color scheme for unfitted estimators */\n",
              "  --sklearn-color-unfitted-level-0: #fff5e6;\n",
              "  --sklearn-color-unfitted-level-1: #f6e4d2;\n",
              "  --sklearn-color-unfitted-level-2: #ffe0b3;\n",
              "  --sklearn-color-unfitted-level-3: chocolate;\n",
              "  /* Definition of color scheme for fitted estimators */\n",
              "  --sklearn-color-fitted-level-0: #f0f8ff;\n",
              "  --sklearn-color-fitted-level-1: #d4ebff;\n",
              "  --sklearn-color-fitted-level-2: #b3dbfd;\n",
              "  --sklearn-color-fitted-level-3: cornflowerblue;\n",
              "\n",
              "  /* Specific color for light theme */\n",
              "  --sklearn-color-text-on-default-background: var(--sg-text-color, var(--theme-code-foreground, var(--jp-content-font-color1, black)));\n",
              "  --sklearn-color-background: var(--sg-background-color, var(--theme-background, var(--jp-layout-color0, white)));\n",
              "  --sklearn-color-border-box: var(--sg-text-color, var(--theme-code-foreground, var(--jp-content-font-color1, black)));\n",
              "  --sklearn-color-icon: #696969;\n",
              "\n",
              "  @media (prefers-color-scheme: dark) {\n",
              "    /* Redefinition of color scheme for dark theme */\n",
              "    --sklearn-color-text-on-default-background: var(--sg-text-color, var(--theme-code-foreground, var(--jp-content-font-color1, white)));\n",
              "    --sklearn-color-background: var(--sg-background-color, var(--theme-background, var(--jp-layout-color0, #111)));\n",
              "    --sklearn-color-border-box: var(--sg-text-color, var(--theme-code-foreground, var(--jp-content-font-color1, white)));\n",
              "    --sklearn-color-icon: #878787;\n",
              "  }\n",
              "}\n",
              "\n",
              "#sk-container-id-1 {\n",
              "  color: var(--sklearn-color-text);\n",
              "}\n",
              "\n",
              "#sk-container-id-1 pre {\n",
              "  padding: 0;\n",
              "}\n",
              "\n",
              "#sk-container-id-1 input.sk-hidden--visually {\n",
              "  border: 0;\n",
              "  clip: rect(1px 1px 1px 1px);\n",
              "  clip: rect(1px, 1px, 1px, 1px);\n",
              "  height: 1px;\n",
              "  margin: -1px;\n",
              "  overflow: hidden;\n",
              "  padding: 0;\n",
              "  position: absolute;\n",
              "  width: 1px;\n",
              "}\n",
              "\n",
              "#sk-container-id-1 div.sk-dashed-wrapped {\n",
              "  border: 1px dashed var(--sklearn-color-line);\n",
              "  margin: 0 0.4em 0.5em 0.4em;\n",
              "  box-sizing: border-box;\n",
              "  padding-bottom: 0.4em;\n",
              "  background-color: var(--sklearn-color-background);\n",
              "}\n",
              "\n",
              "#sk-container-id-1 div.sk-container {\n",
              "  /* jupyter's `normalize.less` sets `[hidden] { display: none; }`\n",
              "     but bootstrap.min.css set `[hidden] { display: none !important; }`\n",
              "     so we also need the `!important` here to be able to override the\n",
              "     default hidden behavior on the sphinx rendered scikit-learn.org.\n",
              "     See: https://github.com/scikit-learn/scikit-learn/issues/21755 */\n",
              "  display: inline-block !important;\n",
              "  position: relative;\n",
              "}\n",
              "\n",
              "#sk-container-id-1 div.sk-text-repr-fallback {\n",
              "  display: none;\n",
              "}\n",
              "\n",
              "div.sk-parallel-item,\n",
              "div.sk-serial,\n",
              "div.sk-item {\n",
              "  /* draw centered vertical line to link estimators */\n",
              "  background-image: linear-gradient(var(--sklearn-color-text-on-default-background), var(--sklearn-color-text-on-default-background));\n",
              "  background-size: 2px 100%;\n",
              "  background-repeat: no-repeat;\n",
              "  background-position: center center;\n",
              "}\n",
              "\n",
              "/* Parallel-specific style estimator block */\n",
              "\n",
              "#sk-container-id-1 div.sk-parallel-item::after {\n",
              "  content: \"\";\n",
              "  width: 100%;\n",
              "  border-bottom: 2px solid var(--sklearn-color-text-on-default-background);\n",
              "  flex-grow: 1;\n",
              "}\n",
              "\n",
              "#sk-container-id-1 div.sk-parallel {\n",
              "  display: flex;\n",
              "  align-items: stretch;\n",
              "  justify-content: center;\n",
              "  background-color: var(--sklearn-color-background);\n",
              "  position: relative;\n",
              "}\n",
              "\n",
              "#sk-container-id-1 div.sk-parallel-item {\n",
              "  display: flex;\n",
              "  flex-direction: column;\n",
              "}\n",
              "\n",
              "#sk-container-id-1 div.sk-parallel-item:first-child::after {\n",
              "  align-self: flex-end;\n",
              "  width: 50%;\n",
              "}\n",
              "\n",
              "#sk-container-id-1 div.sk-parallel-item:last-child::after {\n",
              "  align-self: flex-start;\n",
              "  width: 50%;\n",
              "}\n",
              "\n",
              "#sk-container-id-1 div.sk-parallel-item:only-child::after {\n",
              "  width: 0;\n",
              "}\n",
              "\n",
              "/* Serial-specific style estimator block */\n",
              "\n",
              "#sk-container-id-1 div.sk-serial {\n",
              "  display: flex;\n",
              "  flex-direction: column;\n",
              "  align-items: center;\n",
              "  background-color: var(--sklearn-color-background);\n",
              "  padding-right: 1em;\n",
              "  padding-left: 1em;\n",
              "}\n",
              "\n",
              "\n",
              "/* Toggleable style: style used for estimator/Pipeline/ColumnTransformer box that is\n",
              "clickable and can be expanded/collapsed.\n",
              "- Pipeline and ColumnTransformer use this feature and define the default style\n",
              "- Estimators will overwrite some part of the style using the `sk-estimator` class\n",
              "*/\n",
              "\n",
              "/* Pipeline and ColumnTransformer style (default) */\n",
              "\n",
              "#sk-container-id-1 div.sk-toggleable {\n",
              "  /* Default theme specific background. It is overwritten whether we have a\n",
              "  specific estimator or a Pipeline/ColumnTransformer */\n",
              "  background-color: var(--sklearn-color-background);\n",
              "}\n",
              "\n",
              "/* Toggleable label */\n",
              "#sk-container-id-1 label.sk-toggleable__label {\n",
              "  cursor: pointer;\n",
              "  display: flex;\n",
              "  width: 100%;\n",
              "  margin-bottom: 0;\n",
              "  padding: 0.5em;\n",
              "  box-sizing: border-box;\n",
              "  text-align: center;\n",
              "  align-items: start;\n",
              "  justify-content: space-between;\n",
              "  gap: 0.5em;\n",
              "}\n",
              "\n",
              "#sk-container-id-1 label.sk-toggleable__label .caption {\n",
              "  font-size: 0.6rem;\n",
              "  font-weight: lighter;\n",
              "  color: var(--sklearn-color-text-muted);\n",
              "}\n",
              "\n",
              "#sk-container-id-1 label.sk-toggleable__label-arrow:before {\n",
              "  /* Arrow on the left of the label */\n",
              "  content: \"▸\";\n",
              "  float: left;\n",
              "  margin-right: 0.25em;\n",
              "  color: var(--sklearn-color-icon);\n",
              "}\n",
              "\n",
              "#sk-container-id-1 label.sk-toggleable__label-arrow:hover:before {\n",
              "  color: var(--sklearn-color-text);\n",
              "}\n",
              "\n",
              "/* Toggleable content - dropdown */\n",
              "\n",
              "#sk-container-id-1 div.sk-toggleable__content {\n",
              "  max-height: 0;\n",
              "  max-width: 0;\n",
              "  overflow: hidden;\n",
              "  text-align: left;\n",
              "  /* unfitted */\n",
              "  background-color: var(--sklearn-color-unfitted-level-0);\n",
              "}\n",
              "\n",
              "#sk-container-id-1 div.sk-toggleable__content.fitted {\n",
              "  /* fitted */\n",
              "  background-color: var(--sklearn-color-fitted-level-0);\n",
              "}\n",
              "\n",
              "#sk-container-id-1 div.sk-toggleable__content pre {\n",
              "  margin: 0.2em;\n",
              "  border-radius: 0.25em;\n",
              "  color: var(--sklearn-color-text);\n",
              "  /* unfitted */\n",
              "  background-color: var(--sklearn-color-unfitted-level-0);\n",
              "}\n",
              "\n",
              "#sk-container-id-1 div.sk-toggleable__content.fitted pre {\n",
              "  /* unfitted */\n",
              "  background-color: var(--sklearn-color-fitted-level-0);\n",
              "}\n",
              "\n",
              "#sk-container-id-1 input.sk-toggleable__control:checked~div.sk-toggleable__content {\n",
              "  /* Expand drop-down */\n",
              "  max-height: 200px;\n",
              "  max-width: 100%;\n",
              "  overflow: auto;\n",
              "}\n",
              "\n",
              "#sk-container-id-1 input.sk-toggleable__control:checked~label.sk-toggleable__label-arrow:before {\n",
              "  content: \"▾\";\n",
              "}\n",
              "\n",
              "/* Pipeline/ColumnTransformer-specific style */\n",
              "\n",
              "#sk-container-id-1 div.sk-label input.sk-toggleable__control:checked~label.sk-toggleable__label {\n",
              "  color: var(--sklearn-color-text);\n",
              "  background-color: var(--sklearn-color-unfitted-level-2);\n",
              "}\n",
              "\n",
              "#sk-container-id-1 div.sk-label.fitted input.sk-toggleable__control:checked~label.sk-toggleable__label {\n",
              "  background-color: var(--sklearn-color-fitted-level-2);\n",
              "}\n",
              "\n",
              "/* Estimator-specific style */\n",
              "\n",
              "/* Colorize estimator box */\n",
              "#sk-container-id-1 div.sk-estimator input.sk-toggleable__control:checked~label.sk-toggleable__label {\n",
              "  /* unfitted */\n",
              "  background-color: var(--sklearn-color-unfitted-level-2);\n",
              "}\n",
              "\n",
              "#sk-container-id-1 div.sk-estimator.fitted input.sk-toggleable__control:checked~label.sk-toggleable__label {\n",
              "  /* fitted */\n",
              "  background-color: var(--sklearn-color-fitted-level-2);\n",
              "}\n",
              "\n",
              "#sk-container-id-1 div.sk-label label.sk-toggleable__label,\n",
              "#sk-container-id-1 div.sk-label label {\n",
              "  /* The background is the default theme color */\n",
              "  color: var(--sklearn-color-text-on-default-background);\n",
              "}\n",
              "\n",
              "/* On hover, darken the color of the background */\n",
              "#sk-container-id-1 div.sk-label:hover label.sk-toggleable__label {\n",
              "  color: var(--sklearn-color-text);\n",
              "  background-color: var(--sklearn-color-unfitted-level-2);\n",
              "}\n",
              "\n",
              "/* Label box, darken color on hover, fitted */\n",
              "#sk-container-id-1 div.sk-label.fitted:hover label.sk-toggleable__label.fitted {\n",
              "  color: var(--sklearn-color-text);\n",
              "  background-color: var(--sklearn-color-fitted-level-2);\n",
              "}\n",
              "\n",
              "/* Estimator label */\n",
              "\n",
              "#sk-container-id-1 div.sk-label label {\n",
              "  font-family: monospace;\n",
              "  font-weight: bold;\n",
              "  display: inline-block;\n",
              "  line-height: 1.2em;\n",
              "}\n",
              "\n",
              "#sk-container-id-1 div.sk-label-container {\n",
              "  text-align: center;\n",
              "}\n",
              "\n",
              "/* Estimator-specific */\n",
              "#sk-container-id-1 div.sk-estimator {\n",
              "  font-family: monospace;\n",
              "  border: 1px dotted var(--sklearn-color-border-box);\n",
              "  border-radius: 0.25em;\n",
              "  box-sizing: border-box;\n",
              "  margin-bottom: 0.5em;\n",
              "  /* unfitted */\n",
              "  background-color: var(--sklearn-color-unfitted-level-0);\n",
              "}\n",
              "\n",
              "#sk-container-id-1 div.sk-estimator.fitted {\n",
              "  /* fitted */\n",
              "  background-color: var(--sklearn-color-fitted-level-0);\n",
              "}\n",
              "\n",
              "/* on hover */\n",
              "#sk-container-id-1 div.sk-estimator:hover {\n",
              "  /* unfitted */\n",
              "  background-color: var(--sklearn-color-unfitted-level-2);\n",
              "}\n",
              "\n",
              "#sk-container-id-1 div.sk-estimator.fitted:hover {\n",
              "  /* fitted */\n",
              "  background-color: var(--sklearn-color-fitted-level-2);\n",
              "}\n",
              "\n",
              "/* Specification for estimator info (e.g. \"i\" and \"?\") */\n",
              "\n",
              "/* Common style for \"i\" and \"?\" */\n",
              "\n",
              ".sk-estimator-doc-link,\n",
              "a:link.sk-estimator-doc-link,\n",
              "a:visited.sk-estimator-doc-link {\n",
              "  float: right;\n",
              "  font-size: smaller;\n",
              "  line-height: 1em;\n",
              "  font-family: monospace;\n",
              "  background-color: var(--sklearn-color-background);\n",
              "  border-radius: 1em;\n",
              "  height: 1em;\n",
              "  width: 1em;\n",
              "  text-decoration: none !important;\n",
              "  margin-left: 0.5em;\n",
              "  text-align: center;\n",
              "  /* unfitted */\n",
              "  border: var(--sklearn-color-unfitted-level-1) 1pt solid;\n",
              "  color: var(--sklearn-color-unfitted-level-1);\n",
              "}\n",
              "\n",
              ".sk-estimator-doc-link.fitted,\n",
              "a:link.sk-estimator-doc-link.fitted,\n",
              "a:visited.sk-estimator-doc-link.fitted {\n",
              "  /* fitted */\n",
              "  border: var(--sklearn-color-fitted-level-1) 1pt solid;\n",
              "  color: var(--sklearn-color-fitted-level-1);\n",
              "}\n",
              "\n",
              "/* On hover */\n",
              "div.sk-estimator:hover .sk-estimator-doc-link:hover,\n",
              ".sk-estimator-doc-link:hover,\n",
              "div.sk-label-container:hover .sk-estimator-doc-link:hover,\n",
              ".sk-estimator-doc-link:hover {\n",
              "  /* unfitted */\n",
              "  background-color: var(--sklearn-color-unfitted-level-3);\n",
              "  color: var(--sklearn-color-background);\n",
              "  text-decoration: none;\n",
              "}\n",
              "\n",
              "div.sk-estimator.fitted:hover .sk-estimator-doc-link.fitted:hover,\n",
              ".sk-estimator-doc-link.fitted:hover,\n",
              "div.sk-label-container:hover .sk-estimator-doc-link.fitted:hover,\n",
              ".sk-estimator-doc-link.fitted:hover {\n",
              "  /* fitted */\n",
              "  background-color: var(--sklearn-color-fitted-level-3);\n",
              "  color: var(--sklearn-color-background);\n",
              "  text-decoration: none;\n",
              "}\n",
              "\n",
              "/* Span, style for the box shown on hovering the info icon */\n",
              ".sk-estimator-doc-link span {\n",
              "  display: none;\n",
              "  z-index: 9999;\n",
              "  position: relative;\n",
              "  font-weight: normal;\n",
              "  right: .2ex;\n",
              "  padding: .5ex;\n",
              "  margin: .5ex;\n",
              "  width: min-content;\n",
              "  min-width: 20ex;\n",
              "  max-width: 50ex;\n",
              "  color: var(--sklearn-color-text);\n",
              "  box-shadow: 2pt 2pt 4pt #999;\n",
              "  /* unfitted */\n",
              "  background: var(--sklearn-color-unfitted-level-0);\n",
              "  border: .5pt solid var(--sklearn-color-unfitted-level-3);\n",
              "}\n",
              "\n",
              ".sk-estimator-doc-link.fitted span {\n",
              "  /* fitted */\n",
              "  background: var(--sklearn-color-fitted-level-0);\n",
              "  border: var(--sklearn-color-fitted-level-3);\n",
              "}\n",
              "\n",
              ".sk-estimator-doc-link:hover span {\n",
              "  display: block;\n",
              "}\n",
              "\n",
              "/* \"?\"-specific style due to the `<a>` HTML tag */\n",
              "\n",
              "#sk-container-id-1 a.estimator_doc_link {\n",
              "  float: right;\n",
              "  font-size: 1rem;\n",
              "  line-height: 1em;\n",
              "  font-family: monospace;\n",
              "  background-color: var(--sklearn-color-background);\n",
              "  border-radius: 1rem;\n",
              "  height: 1rem;\n",
              "  width: 1rem;\n",
              "  text-decoration: none;\n",
              "  /* unfitted */\n",
              "  color: var(--sklearn-color-unfitted-level-1);\n",
              "  border: var(--sklearn-color-unfitted-level-1) 1pt solid;\n",
              "}\n",
              "\n",
              "#sk-container-id-1 a.estimator_doc_link.fitted {\n",
              "  /* fitted */\n",
              "  border: var(--sklearn-color-fitted-level-1) 1pt solid;\n",
              "  color: var(--sklearn-color-fitted-level-1);\n",
              "}\n",
              "\n",
              "/* On hover */\n",
              "#sk-container-id-1 a.estimator_doc_link:hover {\n",
              "  /* unfitted */\n",
              "  background-color: var(--sklearn-color-unfitted-level-3);\n",
              "  color: var(--sklearn-color-background);\n",
              "  text-decoration: none;\n",
              "}\n",
              "\n",
              "#sk-container-id-1 a.estimator_doc_link.fitted:hover {\n",
              "  /* fitted */\n",
              "  background-color: var(--sklearn-color-fitted-level-3);\n",
              "}\n",
              "</style><div id=\"sk-container-id-1\" class=\"sk-top-container\"><div class=\"sk-text-repr-fallback\"><pre>Pipeline(steps=[(&#x27;standardscaler&#x27;, StandardScaler()),\n",
              "                (&#x27;ridgecv&#x27;,\n",
              "                 RidgeCV(alphas=array([1.00000000e-03, 1.77827941e-03, 3.16227766e-03, 5.62341325e-03,\n",
              "       1.00000000e-02, 1.77827941e-02, 3.16227766e-02, 5.62341325e-02,\n",
              "       1.00000000e-01, 1.77827941e-01, 3.16227766e-01, 5.62341325e-01,\n",
              "       1.00000000e+00, 1.77827941e+00, 3.16227766e+00, 5.62341325e+00,\n",
              "       1.00000000e+01, 1.77827941e+01, 3.16227766e+01, 5.62341325e+01,\n",
              "       1.00000000e+02, 1.77827941e+02, 3.16227766e+02, 5.62341325e+02,\n",
              "       1.00000000e+03]),\n",
              "                         cv=TimeSeriesSplit(gap=0, max_train_size=None, n_splits=5, test_size=None)))])</pre><b>In a Jupyter environment, please rerun this cell to show the HTML representation or trust the notebook. <br />On GitHub, the HTML representation is unable to render, please try loading this page with nbviewer.org.</b></div><div class=\"sk-container\" hidden><div class=\"sk-item sk-dashed-wrapped\"><div class=\"sk-label-container\"><div class=\"sk-label fitted sk-toggleable\"><input class=\"sk-toggleable__control sk-hidden--visually\" id=\"sk-estimator-id-1\" type=\"checkbox\" ><label for=\"sk-estimator-id-1\" class=\"sk-toggleable__label fitted sk-toggleable__label-arrow\"><div><div>Pipeline</div></div><div><a class=\"sk-estimator-doc-link fitted\" rel=\"noreferrer\" target=\"_blank\" href=\"https://scikit-learn.org/1.6/modules/generated/sklearn.pipeline.Pipeline.html\">?<span>Documentation for Pipeline</span></a><span class=\"sk-estimator-doc-link fitted\">i<span>Fitted</span></span></div></label><div class=\"sk-toggleable__content fitted\"><pre>Pipeline(steps=[(&#x27;standardscaler&#x27;, StandardScaler()),\n",
              "                (&#x27;ridgecv&#x27;,\n",
              "                 RidgeCV(alphas=array([1.00000000e-03, 1.77827941e-03, 3.16227766e-03, 5.62341325e-03,\n",
              "       1.00000000e-02, 1.77827941e-02, 3.16227766e-02, 5.62341325e-02,\n",
              "       1.00000000e-01, 1.77827941e-01, 3.16227766e-01, 5.62341325e-01,\n",
              "       1.00000000e+00, 1.77827941e+00, 3.16227766e+00, 5.62341325e+00,\n",
              "       1.00000000e+01, 1.77827941e+01, 3.16227766e+01, 5.62341325e+01,\n",
              "       1.00000000e+02, 1.77827941e+02, 3.16227766e+02, 5.62341325e+02,\n",
              "       1.00000000e+03]),\n",
              "                         cv=TimeSeriesSplit(gap=0, max_train_size=None, n_splits=5, test_size=None)))])</pre></div> </div></div><div class=\"sk-serial\"><div class=\"sk-item\"><div class=\"sk-estimator fitted sk-toggleable\"><input class=\"sk-toggleable__control sk-hidden--visually\" id=\"sk-estimator-id-2\" type=\"checkbox\" ><label for=\"sk-estimator-id-2\" class=\"sk-toggleable__label fitted sk-toggleable__label-arrow\"><div><div>StandardScaler</div></div><div><a class=\"sk-estimator-doc-link fitted\" rel=\"noreferrer\" target=\"_blank\" href=\"https://scikit-learn.org/1.6/modules/generated/sklearn.preprocessing.StandardScaler.html\">?<span>Documentation for StandardScaler</span></a></div></label><div class=\"sk-toggleable__content fitted\"><pre>StandardScaler()</pre></div> </div></div><div class=\"sk-item\"><div class=\"sk-estimator fitted sk-toggleable\"><input class=\"sk-toggleable__control sk-hidden--visually\" id=\"sk-estimator-id-3\" type=\"checkbox\" ><label for=\"sk-estimator-id-3\" class=\"sk-toggleable__label fitted sk-toggleable__label-arrow\"><div><div>RidgeCV</div></div><div><a class=\"sk-estimator-doc-link fitted\" rel=\"noreferrer\" target=\"_blank\" href=\"https://scikit-learn.org/1.6/modules/generated/sklearn.linear_model.RidgeCV.html\">?<span>Documentation for RidgeCV</span></a></div></label><div class=\"sk-toggleable__content fitted\"><pre>RidgeCV(alphas=array([1.00000000e-03, 1.77827941e-03, 3.16227766e-03, 5.62341325e-03,\n",
              "       1.00000000e-02, 1.77827941e-02, 3.16227766e-02, 5.62341325e-02,\n",
              "       1.00000000e-01, 1.77827941e-01, 3.16227766e-01, 5.62341325e-01,\n",
              "       1.00000000e+00, 1.77827941e+00, 3.16227766e+00, 5.62341325e+00,\n",
              "       1.00000000e+01, 1.77827941e+01, 3.16227766e+01, 5.62341325e+01,\n",
              "       1.00000000e+02, 1.77827941e+02, 3.16227766e+02, 5.62341325e+02,\n",
              "       1.00000000e+03]),\n",
              "        cv=TimeSeriesSplit(gap=0, max_train_size=None, n_splits=5, test_size=None))</pre></div> </div></div></div></div></div></div>"
            ]
          },
          "metadata": {},
          "execution_count": 29
        }
      ]
    },
    {
      "cell_type": "markdown",
      "source": [
        "**Predict Google spend for entire dataset**"
      ],
      "metadata": {
        "id": "_j5mu07Q_7-r"
      }
    },
    {
      "cell_type": "code",
      "source": [
        "data['google_pred'] = np.nan\n",
        "mask_all = data[stage1_features].notna().all(axis=1)\n",
        "data.loc[mask_all, 'google_pred'] = s1_model.predict(data.loc[mask_all, stage1_features])\n",
        "data['google_pred'] = data['google_pred'].fillna(0)"
      ],
      "metadata": {
        "id": "Xht9tOI__3Lt"
      },
      "execution_count": 30,
      "outputs": []
    },
    {
      "cell_type": "markdown",
      "source": [
        "**Add predicted Google to Stage2 features**"
      ],
      "metadata": {
        "id": "ys1Ve6EEAH-H"
      }
    },
    {
      "cell_type": "code",
      "source": [
        "if 'google_pred' not in stage2_features:\n",
        "    stage2_features = ['google_pred'] + [c for c in stage2_features if c != google_col]"
      ],
      "metadata": {
        "id": "PynErY-HAE9G"
      },
      "execution_count": 31,
      "outputs": []
    },
    {
      "cell_type": "markdown",
      "source": [
        "**Stage2: ElasticNetCV to predict Revenue**"
      ],
      "metadata": {
        "id": "68elIJ_DAPOl"
      }
    },
    {
      "cell_type": "code",
      "source": [
        "train_s2 = data.iloc[:-TEST_WEEKS].dropna(subset=stage2_features + [TARGET]).copy()\n",
        "test_s2  = data.iloc[-TEST_WEEKS:].dropna(subset=stage2_features + [TARGET]).copy()\n",
        "\n",
        "X_train = train_s2[stage2_features]\n",
        "y_train = train_s2[TARGET]\n",
        "X_test  = test_s2[stage2_features]\n",
        "y_test  = test_s2[TARGET]"
      ],
      "metadata": {
        "id": "GNQEX4gDAMkD"
      },
      "execution_count": 32,
      "outputs": []
    },
    {
      "cell_type": "markdown",
      "source": [
        " **Evaluation function**"
      ],
      "metadata": {
        "id": "ucO5S4WNAVzC"
      }
    },
    {
      "cell_type": "code",
      "source": [
        "def eval_model(model, Xtr, ytr, Xte, yte):\n",
        "    ytr_pred = model.predict(Xtr)\n",
        "    yte_pred = model.predict(Xte)\n",
        "\n",
        "    def metrics(y_true, y_pred):\n",
        "        rmse = np.sqrt(mean_squared_error(y_true, y_pred))\n",
        "        mae  = mean_absolute_error(y_true, y_pred)\n",
        "        r2   = r2_score(y_true, y_pred)\n",
        "        return {'rmse': rmse, 'mae': mae, 'r2': r2}\n",
        "\n",
        "    return metrics(ytr, ytr_pred), metrics(yte, yte_pred), yte_pred"
      ],
      "metadata": {
        "id": "yuCvCZ-WAS7q"
      },
      "execution_count": 33,
      "outputs": []
    },
    {
      "cell_type": "markdown",
      "source": [
        "**Fit Stage2 ElasticNet**"
      ],
      "metadata": {
        "id": "Y0rcmAWYAg5U"
      }
    },
    {
      "cell_type": "code",
      "source": [
        "l1_ratio = [0.1,0.5,0.9]\n",
        "enet = ElasticNetCV(l1_ratio=l1_ratio, n_alphas=50, cv=tscv, max_iter=5000)\n",
        "pipe = make_pipeline(StandardScaler(), enet)\n",
        "pipe.fit(X_train, y_train)\n",
        "\n",
        "train_metrics, test_metrics, y_test_pred = eval_model(pipe, X_train, y_train, X_test, y_test)\n",
        "print(\"Train metrics:\", train_metrics)\n",
        "print(\"Test metrics:\", test_metrics)"
      ],
      "metadata": {
        "colab": {
          "base_uri": "https://localhost:8080/"
        },
        "id": "nVx4TJeoAck4",
        "outputId": "cb11806d-e241-4755-ea8d-550fff6d4f06"
      },
      "execution_count": 34,
      "outputs": [
        {
          "output_type": "stream",
          "name": "stdout",
          "text": [
            "Train metrics: {'rmse': np.float64(0.5879919362389431), 'mae': 0.44752788966119045, 'r2': 0.6712513241578623}\n",
            "Test metrics: {'rmse': np.float64(0.43689034319420234), 'mae': 0.3959847453028196, 'r2': 0.686892037538332}\n"
          ]
        }
      ]
    },
    {
      "cell_type": "markdown",
      "source": [
        "\n",
        "\n",
        " **Diagnostics**\n"
      ],
      "metadata": {
        "id": "ystS4py3AotF"
      }
    },
    {
      "cell_type": "code",
      "source": [
        "coef = pipe.named_steps['elasticnetcv'].coef_\n",
        "coef_df = pd.DataFrame({'feature': stage2_features, 'coef': coef}).sort_values('coef', key=lambda s: s.abs(), ascending=False)\n",
        "print(\"\\nTop coefficients:\")\n",
        "print(coef_df.head(20))"
      ],
      "metadata": {
        "colab": {
          "base_uri": "https://localhost:8080/"
        },
        "id": "qOivDRQfAky8",
        "outputId": "92d506ff-e9fe-416b-f6dd-de865eaee222"
      },
      "execution_count": 35,
      "outputs": [
        {
          "output_type": "stream",
          "name": "stdout",
          "text": [
            "\n",
            "Top coefficients:\n",
            "                feature      coef\n",
            "3       instagram_spend  0.549760\n",
            "45        average_price -0.193266\n",
            "30         revenue_lag1  0.157610\n",
            "44            log_price -0.150626\n",
            "43         annual_cos_3  0.107064\n",
            "34                    t  0.028624\n",
            "42         annual_sin_3 -0.025387\n",
            "17    tiktok_spend_lag4 -0.017983\n",
            "40         annual_sin_2 -0.016553\n",
            "38         annual_sin_1  0.014586\n",
            "1        facebook_spend -0.000000\n",
            "2          tiktok_spend -0.000000\n",
            "4        snapchat_spend  0.000000\n",
            "5        google_adstock -0.000000\n",
            "0           google_pred -0.000000\n",
            "14    tiktok_spend_lag1  0.000000\n",
            "13  facebook_spend_lag4  0.000000\n",
            "12  facebook_spend_lag3  0.000000\n",
            "11  facebook_spend_lag2 -0.000000\n",
            "10  facebook_spend_lag1  0.000000\n"
          ]
        }
      ]
    },
    {
      "cell_type": "markdown",
      "source": [
        "**Residual plot**"
      ],
      "metadata": {
        "id": "JtBIs59bA5Vj"
      }
    },
    {
      "cell_type": "code",
      "source": [
        "resid = y_test - y_test_pred\n",
        "plt.figure(figsize=(8,4))\n",
        "plt.plot(test_s2[TIME_COL], resid, marker='o')\n",
        "plt.axhline(0, color='k', linestyle='--', alpha=0.6)\n",
        "plt.title('Residuals on test (log1p_revenue)')\n",
        "plt.xlabel('Week')\n",
        "plt.xticks(rotation=45)\n",
        "plt.tight_layout()\n",
        "plt.show()"
      ],
      "metadata": {
        "colab": {
          "base_uri": "https://localhost:8080/",
          "height": 407
        },
        "id": "tAcCLi3cA0cS",
        "outputId": "952b00f9-c239-4ff9-f7ef-d8e588aa0ccf"
      },
      "execution_count": 36,
      "outputs": [
        {
          "output_type": "display_data",
          "data": {
            "text/plain": [
              "<Figure size 800x400 with 1 Axes>"
            ],
            "image/png": "[encoded data removed]"
          },
          "metadata": {}
        }
      ]
    },
    {
      "cell_type": "markdown",
      "source": [
        "**Google predicted vs actual**"
      ],
      "metadata": {
        "id": "HS-pBITbBC3t"
      }
    },
    {
      "cell_type": "code",
      "source": [
        "plt.figure(figsize=(8,4))\n",
        "plt.plot(train[TIME_COL], train[google_col], label='google_actual', alpha=0.6)\n",
        "plt.plot(data[TIME_COL], data['google_pred'], label='google_pred', alpha=0.8)\n",
        "plt.legend()\n",
        "plt.title('Google actual vs predicted')\n",
        "plt.xticks(rotation=45)\n",
        "plt.tight_layout()\n",
        "plt.show()"
      ],
      "metadata": {
        "colab": {
          "base_uri": "https://localhost:8080/",
          "height": 407
        },
        "id": "tlaiNgc2A_T6",
        "outputId": "a6e718fb-7d28-4220-c6b6-8bb4be2e0170"
      },
      "execution_count": 37,
      "outputs": [
        {
          "output_type": "display_data",
          "data": {
            "text/plain": [
              "<Figure size 800x400 with 1 Axes>"
            ],
            "image/png": "[encoded data removed]"
          },
          "metadata": {}
        }
      ]
    },
    {
      "cell_type": "markdown",
      "source": [
        "**RandomForest check**"
      ],
      "metadata": {
        "id": "6Kj9UBCzBM-g"
      }
    },
    {
      "cell_type": "code",
      "source": [
        "rf = RandomForestRegressor(n_estimators=200, max_depth=6, random_state=42)\n",
        "rf_pipe = make_pipeline(StandardScaler(), rf)\n",
        "rf_pipe.fit(X_train, y_train)\n",
        "_, rf_test_metrics, _ = eval_model(rf_pipe, X_train, y_train, X_test, y_test)\n",
        "print(\"\\nRandomForest test metrics:\", rf_test_metrics)\n",
        "\n",
        "importances = rf_pipe.named_steps['randomforestregressor'].feature_importances_\n",
        "fi = pd.DataFrame({'feature': stage2_features, 'importance': importances}).sort_values('importance', ascending=False)\n",
        "print(\"\\nRF top features:\")\n",
        "print(fi.head(15))"
      ],
      "metadata": {
        "colab": {
          "base_uri": "https://localhost:8080/"
        },
        "id": "TgFrg2I4BHAG",
        "outputId": "18a10dc2-89f4-4b92-f692-61c83c2ffbb5"
      },
      "execution_count": 38,
      "outputs": [
        {
          "output_type": "stream",
          "name": "stdout",
          "text": [
            "\n",
            "RandomForest test metrics: {'rmse': np.float64(0.20605798404015316), 'mae': 0.15503662816093536, 'r2': 0.9303488783723393}\n",
            "\n",
            "RF top features:\n",
            "                feature  importance\n",
            "3       instagram_spend    0.290927\n",
            "30         revenue_lag1    0.148131\n",
            "45        average_price    0.107003\n",
            "44            log_price    0.097259\n",
            "35         week_of_year    0.078587\n",
            "8     instagram_adstock    0.068472\n",
            "40         annual_sin_2    0.049189\n",
            "31         revenue_lag2    0.016325\n",
            "13  facebook_spend_lag4    0.011030\n",
            "22  snapchat_spend_lag1    0.010686\n",
            "39         annual_cos_1    0.009105\n",
            "6      facebook_adstock    0.008087\n",
            "38         annual_sin_1    0.007354\n",
            "12  facebook_spend_lag3    0.006003\n",
            "34                    t    0.005796\n"
          ]
        }
      ]
    },
    {
      "cell_type": "markdown",
      "source": [
        "***Save models***"
      ],
      "metadata": {
        "id": "NuSFxqRdBg6M"
      }
    },
    {
      "cell_type": "code",
      "source": [
        "joblib.dump(s1_model, 'stage1_google_model.pkl')\n",
        "joblib.dump(pipe, 'stage2_revenue_model.pkl')"
      ],
      "metadata": {
        "colab": {
          "base_uri": "https://localhost:8080/"
        },
        "id": "BeVcZECuBRfh",
        "outputId": "66f56959-ee48-4efa-eb01-985996cc6296"
      },
      "execution_count": 39,
      "outputs": [
        {
          "output_type": "execute_result",
          "data": {
            "text/plain": [
              "['stage2_revenue_model.pkl']"
            ]
          },
          "metadata": {},
          "execution_count": 39
        }
      ]
    },
    {
      "cell_type": "code",
      "source": [
        "print(\"\\nNotes:\")\n",
        "print(\"- Stage1: Ridge predicts Google spend (mediator).\")\n",
        "print(\"- Stage2: ElasticNet predicts revenue using predicted Google + socials + adstock + lags + controls.\")\n",
        "print(\"- TimeSeriesSplit avoids look-ahead in CV.\")\n",
        "print(\"- Coefficients are interpretable in log-space (elasticities).\")"
      ],
      "metadata": {
        "colab": {
          "base_uri": "https://localhost:8080/"
        },
        "id": "Nbr2DZhaB0LF",
        "outputId": "2578010c-1b57-4f53-fbdb-57fee135f70b"
      },
      "execution_count": 40,
      "outputs": [
        {
          "output_type": "stream",
          "name": "stdout",
          "text": [
            "\n",
            "Notes:\n",
            "- Stage1: Ridge predicts Google spend (mediator).\n",
            "- Stage2: ElasticNet predicts revenue using predicted Google + socials + adstock + lags + controls.\n",
            "- TimeSeriesSplit avoids look-ahead in CV.\n",
            "- Coefficients are interpretable in log-space (elasticities).\n"
          ]
        }
      ]
    },
    {
      "cell_type": "code",
      "source": [],
      "metadata": {
        "id": "vqb3XCVEB3v_"
      },
      "execution_count": null,
      "outputs": []
    }
  ]
}